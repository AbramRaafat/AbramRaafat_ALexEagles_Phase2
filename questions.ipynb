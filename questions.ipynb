{
  "nbformat": 4,
  "nbformat_minor": 0,
  "metadata": {
    "colab": {
      "provenance": [],
      "toc_visible": true
    },
    "kernelspec": {
      "name": "python3",
      "display_name": "Python 3"
    },
    "language_info": {
      "name": "python"
    }
  },
  "cells": [
    {
      "cell_type": "markdown",
      "source": [
        "### Question 1: Perceptron Algorithm\n",
        "\n",
        " Given the following input points (X1 = 2, X2 = 4), (X1 = 4, X2 = 2) and (X1 = 2,X2 = 2) <br />\n",
        "and y_hat = 2.X1 - X2 + 0.5 with step activation function of the threshold set at 0. then:"
      ],
      "metadata": {
        "id": "1DRIusDFB44-"
      }
    },
    {
      "cell_type": "code",
      "execution_count": 14,
      "metadata": {
        "colab": {
          "base_uri": "https://localhost:8080/",
          "height": 472
        },
        "id": "FYKr7CXPB2ym",
        "outputId": "4d7a2d5a-1586-439e-8b4e-b8de4d0845bd"
      },
      "outputs": [
        {
          "output_type": "display_data",
          "data": {
            "text/plain": [
              "<Figure size 640x480 with 1 Axes>"
            ],
            "image/png": "[encoded data removed]"
          },
          "metadata": {}
        }
      ],
      "source": [
        "import matplotlib.pyplot as plt\n",
        "import numpy as np\n",
        "\n",
        "slope = 2\n",
        "intercept = 0.5\n",
        "\n",
        "# Generate x values\n",
        "x1 = np.linspace(-5, 5, 100)\n",
        "\n",
        "# Calculate y values\n",
        "x2 = slope * x1 + intercept\n",
        "\n",
        "# Create the plot\n",
        "plt.plot(x1, x2, color='black', label=\"Decision Boundary\")\n",
        "plt.xlim([-5, 5])\n",
        "plt.ylim([-5, 5])\n",
        "\n",
        "# Set axis through the origin\n",
        "plt.axhline(0, color='gray', linestyle='--')\n",
        "plt.axvline(0, color='gray', linestyle='--')\n",
        "\n",
        "# Shade the areas above and below the line\n",
        "plt.fill_between(x1, x2, -5, where=(x2 <= slope * x1 + intercept), color='blue', alpha=0.2, label=\"Class 1\")\n",
        "plt.fill_between(x1, x2, 5, where=(x2 <= slope * x1 + intercept), color='red', alpha=0.2, label=\"Class 0\")\n",
        "\n",
        "x1_sample = [2, 4, 2]\n",
        "x2_sample = [4, 2, 2]\n",
        "\n",
        "plt.plot(x1_sample, x2_sample, 'o')\n",
        "\n",
        "plt.xlabel('X1')\n",
        "plt.ylabel('X2')\n",
        "plt.title('Decision Boundary')\n",
        "\n",
        "# Display the plot\n",
        "plt.show()"
      ]
    },
    {
      "cell_type": "markdown",
      "source": [
        "a) all the lapels are 1\n",
        "\n",
        "b) show in the figure above\n",
        "\n",
        "c) The perceptron can only solve problems that are linearly separable. For non-linearly the perceptron will not converge."
      ],
      "metadata": {
        "id": "jQnq9d5LFEDz"
      }
    },
    {
      "cell_type": "markdown",
      "source": [
        "### Question 2: For the neural network below answer the following questions:\n",
        "\n",
        "a) 14\n",
        "\n",
        "b) 4\n",
        "\n",
        "c) (4x2+2) + (4x2+4) + (4x2+2) + (4x2+4) + (4x2+2)"
      ],
      "metadata": {
        "id": "Yc4nsPPBFRil"
      }
    },
    {
      "cell_type": "markdown",
      "source": [
        "###Question 3: Consider the following 1-d array [ 3 , 4, 6, 3, 2, 3, 4] apply convolution with\n",
        "the following 1-d filter [1, 2, -1] and 0 padding.\n",
        "\n",
        "the ans: [2, 5, 13, 10, 4, 4, 11]"
      ],
      "metadata": {
        "id": "qeKcJeK-HbLf"
      }
    },
    {
      "cell_type": "code",
      "source": [],
      "metadata": {
        "id": "0BjP5CwoHN3E"
      },
      "execution_count": null,
      "outputs": []
    },
    {
      "cell_type": "markdown",
      "source": [
        "### Question 4\n",
        "\n",
        "For a 1D array of length \\(L\\) and filter of size \\(F\\), the output size after convolution is given by:\n",
        "\n",
        "Output size = L - F + 1 + 2P\n",
        "\n",
        "\n",
        "Where:\n",
        "- \\(L\\) is the length of the input array.\n",
        "- \\(F\\) is the filter size.\n",
        "- \\(P\\) is the padding.\n",
        "\n",
        "### Constant Output Size\n",
        "To maintain a constant output size (i.e., the output length equals the input length), the padding \\(P\\) needs to be:\n",
        "P = (F - 1)/2\n",
        "\n",
        "\n",
        "This ensures that the input and output lengths remain the same after the convolution operation.\n",
        "\n",
        "\n",
        "\n",
        "\n",
        "\n"
      ],
      "metadata": {
        "id": "xODSlOsoIJ93"
      }
    },
    {
      "cell_type": "markdown",
      "source": [
        "### question 5\n",
        "\n",
        "\\begin{bmatrix}\n",
        "8 & 19 & 1\\\\\n",
        "13 & 1 & 16\\\\\n",
        "-10 & 28 & 20\n",
        "\\end{bmatrix}"
      ],
      "metadata": {
        "id": "nSFLYopeKWPS"
      }
    }
  ]
}